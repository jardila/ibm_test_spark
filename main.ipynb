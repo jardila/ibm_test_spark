{
 "cells": [
  {
   "cell_type": "code",
   "execution_count": 1,
   "id": "dbad7236-d548-4945-90c5-9718902c9369",
   "metadata": {},
   "outputs": [
    {
     "name": "stdout",
     "output_type": "stream",
     "text": [
      "Collecting findspark\n",
      "  Downloading findspark-2.0.1-py2.py3-none-any.whl (4.4 kB)\n",
      "Installing collected packages: findspark\n",
      "Successfully installed findspark-2.0.1\n"
     ]
    }
   ],
   "source": [
    "# Install findpark\n",
    "!pip install findspark"
   ]
  },
  {
   "cell_type": "code",
   "execution_count": 143,
   "id": "a71ba8e2-80a9-4c0c-bcea-61aa2d2d0f26",
   "metadata": {},
   "outputs": [
    {
     "name": "stdout",
     "output_type": "stream",
     "text": [
      "Collecting openpyxl\n",
      "  Downloading openpyxl-3.1.1-py2.py3-none-any.whl (249 kB)\n",
      "\u001b[2K     \u001b[90m━━━━━━━━━━━━━━━━━━━━━━━━━━━━━━━━━━━━━━━\u001b[0m \u001b[32m249.8/249.8 kB\u001b[0m \u001b[31m4.9 MB/s\u001b[0m eta \u001b[36m0:00:00\u001b[0ma \u001b[36m0:00:01\u001b[0m\n",
      "\u001b[?25hCollecting et-xmlfile\n",
      "  Downloading et_xmlfile-1.1.0-py3-none-any.whl (4.7 kB)\n",
      "Installing collected packages: et-xmlfile, openpyxl\n",
      "Successfully installed et-xmlfile-1.1.0 openpyxl-3.1.1\n"
     ]
    }
   ],
   "source": [
    "!pip install openpyxl"
   ]
  },
  {
   "cell_type": "code",
   "execution_count": 2,
   "id": "f619cf4a-9c01-4914-96c1-5f1b248ebf8b",
   "metadata": {},
   "outputs": [],
   "source": [
    "# Import libs\n",
    "import findspark\n",
    "from pyspark import SparkConf, SparkContext\n",
    "from pyspark.sql import SparkSession"
   ]
  },
  {
   "cell_type": "code",
   "execution_count": 4,
   "id": "af8cc01a-d714-4f20-96fe-f4c9cea61e81",
   "metadata": {},
   "outputs": [
    {
     "name": "stdout",
     "output_type": "stream",
     "text": [
      "23/02/17 12:20:27 WARN Utils: Your hostname, jolver-ardila resolves to a loopback address: 127.0.1.1; using 192.168.0.10 instead (on interface wlp0s20f3)\n",
      "23/02/17 12:20:27 WARN Utils: Set SPARK_LOCAL_IP if you need to bind to another address\n"
     ]
    },
    {
     "name": "stderr",
     "output_type": "stream",
     "text": [
      "Setting default log level to \"WARN\".\n",
      "To adjust logging level use sc.setLogLevel(newLevel). For SparkR, use setLogLevel(newLevel).\n"
     ]
    },
    {
     "name": "stdout",
     "output_type": "stream",
     "text": [
      "23/02/17 12:20:28 WARN NativeCodeLoader: Unable to load native-hadoop library for your platform... using builtin-java classes where applicable\n"
     ]
    }
   ],
   "source": [
    "# Create SparkSession\n",
    "sparkConf = SparkConf().setAppName(\"My Spark Application for IBM test\")\n",
    "sc = SparkContext(conf=sparkConf)\n",
    "spark = SparkSession(sc)"
   ]
  },
  {
   "cell_type": "code",
   "execution_count": 58,
   "id": "d2e1c28b-9a4d-4ed0-a36a-1a05434d901b",
   "metadata": {},
   "outputs": [
    {
     "name": "stdout",
     "output_type": "stream",
     "text": [
      "+-------------+---------+------+-------+------------------+------+\n",
      "|Codigo Piloto|Aerolínea|Origen|Destino|Minutos de retraso|OnTime|\n",
      "+-------------+---------+------+-------+------------------+------+\n",
      "|        43556|       10|   SAP|    HAJ|                40|  null|\n",
      "|        43557|        5|   MIA|    MIA|                30|  null|\n",
      "|        43558|        3|   FLL|    FLL|                20|  null|\n",
      "|        43559|        1|   TEG|    SAP|                 0|  null|\n",
      "|        43560|        1|   HAJ|    SAP|                50|  null|\n",
      "|        43561|        8|   HHN|    SAP|                20|  null|\n",
      "|        43562|        2|   SAP|    HAJ|               -30|  null|\n",
      "|        43563|        8|   MIA|    HHN|               -30|  null|\n",
      "|        43564|       10|   FLL|    SAP|               -30|  null|\n",
      "|        43565|        7|   TEG|    TEG|                 0|  null|\n",
      "|        43566|        4|   HAJ|    HAJ|               -70|  null|\n",
      "|        43567|        6|   HHN|    HHN|               -40|  null|\n",
      "|        43568|        4|   FLL|    SAP|                 0|  null|\n",
      "|        43569|        9|   TEG|    MIA|                 0|  null|\n",
      "|        43570|        6|   HAJ|    FLL|               -70|  null|\n",
      "|        43571|        5|   HHN|    SAP|               -50|  null|\n",
      "|        43572|        1|   SAP|    MIA|                 0|  null|\n",
      "|        43573|        5|   MIA|    FLL|                 0|  null|\n",
      "|        43556|        2|   FLL|    TEG|               -50|  null|\n",
      "|        43557|        9|   SAP|    HAJ|                40|  null|\n",
      "+-------------+---------+------+-------+------------------+------+\n",
      "only showing top 20 rows\n",
      "\n"
     ]
    }
   ],
   "source": [
    "# Create dataframe from vuelos\n",
    "vuelos_ = spark.read.load(\"./sources/vuelos.csv\", format=\"csv\", sep=\",\", inferSchema=\"true\", header=\"true\")\n",
    "vuelos_.show()"
   ]
  },
  {
   "cell_type": "code",
   "execution_count": 59,
   "id": "56dab963-d63f-4a3f-834f-c4a0b99f7ee8",
   "metadata": {},
   "outputs": [
    {
     "name": "stdout",
     "output_type": "stream",
     "text": [
      "+-------------+---------------+\n",
      "|Codigo Piloto|         Piloto|\n",
      "+-------------+---------------+\n",
      "|        43556|       John Max|\n",
      "|        43557|   Jilles Vlank|\n",
      "|        43558|    Jorge Mej�a|\n",
      "|        43559|David Colindres|\n",
      "|        43560|Maximilian Call|\n",
      "|        43561|   Muilin Mills|\n",
      "|        43562|    Gianni Falk|\n",
      "|        43563|       Hous Hih|\n",
      "|        43564|       Cho Ming|\n",
      "|        43565|        Chao Ma|\n",
      "|        43566|     Jos� Perez|\n",
      "|        43567|    Davie Mixal|\n",
      "|        43568|     Filg Gills|\n",
      "|        43569|       Hung Cho|\n",
      "|        43570|     Filen Filg|\n",
      "|        43571| Arthur Maxwell|\n",
      "|        43572| Carlos Miranda|\n",
      "|        43573|  Denis Tercero|\n",
      "|        43574|   David German|\n",
      "|        43575|   Charles Moll|\n",
      "+-------------+---------------+\n",
      "only showing top 20 rows\n",
      "\n"
     ]
    }
   ],
   "source": [
    "# Create dataframe from pilots\n",
    "pilots = spark.read.load(\"./sources/pilotos.csv\", format=\"csv\", sep=\",\", inferSchema=\"true\", header=\"true\")\n",
    "pilots.show()"
   ]
  },
  {
   "cell_type": "code",
   "execution_count": 60,
   "id": "dfe4c2fe-f06a-451b-a4e3-64222795a4ec",
   "metadata": {},
   "outputs": [],
   "source": [
    "# Rename column\n",
    "# Se renombran para un uso mas comodo en las operaciones de consulta (se eliminan los espacios)\n",
    "vuelos = vuelos_.withColumnRenamed(\"Aerolínea\", \"Aerolinea\")\n",
    "vuelos = vuelos.withColumnRenamed(\"Codigo Piloto\", \"Codigo_Piloto\")\n",
    "vuelos = vuelos.withColumnRenamed(\"Minutos de retraso\", \"Minutos_de_retraso\")\n",
    "pilots = pilots.withColumnRenamed(\"Codigo Piloto\", \"Cod_Piloto\")"
   ]
  },
  {
   "cell_type": "code",
   "execution_count": 63,
   "id": "c7c6f497-6232-45cf-b215-179c17aae8a3",
   "metadata": {},
   "outputs": [],
   "source": [
    "# Transform columns types for vuelos\n",
    "# Se cambian el tipo a integer de algunas columnas para facilitar operaciones de comparacion\n",
    "vuelos = vuelos.withColumn(\"Codigo_Piloto\", vuelos.Codigo_Piloto.cast(\"integer\"))\n",
    "vuelos = vuelos.withColumn(\"Aerolinea\", vuelos.Aerolinea.cast(\"integer\"))\n",
    "vuelos = vuelos.withColumn(\"Minutos_de_retraso\", vuelos.Minutos_de_retraso.cast(\"integer\"))"
   ]
  },
  {
   "cell_type": "code",
   "execution_count": 64,
   "id": "cf0c97da-0ac0-462d-abf4-b0bb7ddf996a",
   "metadata": {},
   "outputs": [
    {
     "name": "stdout",
     "output_type": "stream",
     "text": [
      "root\n",
      " |-- Codigo_Piloto: integer (nullable = true)\n",
      " |-- Aerolinea: integer (nullable = true)\n",
      " |-- Origen: string (nullable = true)\n",
      " |-- Destino: string (nullable = true)\n",
      " |-- Minutos_de_retraso: integer (nullable = true)\n",
      " |-- OnTime: string (nullable = true)\n",
      "\n"
     ]
    }
   ],
   "source": [
    "vuelos.printSchema()"
   ]
  },
  {
   "cell_type": "code",
   "execution_count": 67,
   "id": "b27d05fa-e567-4f70-ac4e-2a83640b4cb3",
   "metadata": {},
   "outputs": [
    {
     "name": "stdout",
     "output_type": "stream",
     "text": [
      "+-------------+---------+------+-------+------------------+------+---------------+\n",
      "|Codigo_Piloto|Aerolinea|Origen|Destino|Minutos_de_retraso|OnTime|         Piloto|\n",
      "+-------------+---------+------+-------+------------------+------+---------------+\n",
      "|        43556|       10|   SAP|    HAJ|                40|  null|       John Max|\n",
      "|        43557|        5|   MIA|    MIA|                30|  null|   Jilles Vlank|\n",
      "|        43558|        3|   FLL|    FLL|                20|  null|    Jorge Mej�a|\n",
      "|        43559|        1|   TEG|    SAP|                 0|  null|David Colindres|\n",
      "|        43560|        1|   HAJ|    SAP|                50|  null|Maximilian Call|\n",
      "|        43561|        8|   HHN|    SAP|                20|  null|   Muilin Mills|\n",
      "|        43562|        2|   SAP|    HAJ|               -30|  null|    Gianni Falk|\n",
      "|        43563|        8|   MIA|    HHN|               -30|  null|       Hous Hih|\n",
      "|        43564|       10|   FLL|    SAP|               -30|  null|       Cho Ming|\n",
      "|        43565|        7|   TEG|    TEG|                 0|  null|        Chao Ma|\n",
      "|        43566|        4|   HAJ|    HAJ|               -70|  null|     Jos� Perez|\n",
      "|        43567|        6|   HHN|    HHN|               -40|  null|    Davie Mixal|\n",
      "|        43568|        4|   FLL|    SAP|                 0|  null|     Filg Gills|\n",
      "|        43569|        9|   TEG|    MIA|                 0|  null|       Hung Cho|\n",
      "|        43570|        6|   HAJ|    FLL|               -70|  null|     Filen Filg|\n",
      "|        43571|        5|   HHN|    SAP|               -50|  null| Arthur Maxwell|\n",
      "|        43572|        1|   SAP|    MIA|                 0|  null| Carlos Miranda|\n",
      "|        43573|        5|   MIA|    FLL|                 0|  null|  Denis Tercero|\n",
      "|        43556|        2|   FLL|    TEG|               -50|  null|       John Max|\n",
      "|        43557|        9|   SAP|    HAJ|                40|  null|   Jilles Vlank|\n",
      "+-------------+---------+------+-------+------------------+------+---------------+\n",
      "only showing top 20 rows\n",
      "\n"
     ]
    }
   ],
   "source": [
    "# ETL steps\n",
    "# Step 1 -> Add pilot name to flights df\n",
    "# \n",
    "# Se ejecuta un join entre los 2 dtaframes para linkear los nombres de los pilotos\n",
    "# Luego se elimina la columna duplicada que viene del join\n",
    "fligths_ = vuelos.join(pilots, vuelos.Codigo_Piloto == pilots.Cod_Piloto, \"left\")\n",
    "fligths_ = fligths_.drop(\"Cod_Piloto\")\n",
    "fligths_.show()"
   ]
  },
  {
   "cell_type": "code",
   "execution_count": 69,
   "id": "85c79dd4-9a87-450c-97b1-d3e178aed229",
   "metadata": {},
   "outputs": [
    {
     "data": {
      "text/plain": [
       "4302"
      ]
     },
     "execution_count": 69,
     "metadata": {},
     "output_type": "execute_result"
    }
   ],
   "source": [
    "fligths_.count()"
   ]
  },
  {
   "cell_type": "code",
   "execution_count": 75,
   "id": "0fffedcd-c797-4803-b935-fb1c569456d4",
   "metadata": {},
   "outputs": [
    {
     "name": "stdout",
     "output_type": "stream",
     "text": [
      "+-------------+---------+------+-------+------------------+------+---------------+\n",
      "|Codigo_Piloto|Aerolinea|Origen|Destino|Minutos_de_retraso|OnTime|         Piloto|\n",
      "+-------------+---------+------+-------+------------------+------+---------------+\n",
      "|        43556|       10|   SAP|    HAJ|                40|  null|       John Max|\n",
      "|        43559|        1|   TEG|    SAP|                 0|  null|David Colindres|\n",
      "|        43560|        1|   HAJ|    SAP|                50|  null|Maximilian Call|\n",
      "|        43561|        8|   HHN|    SAP|                20|  null|   Muilin Mills|\n",
      "|        43562|        2|   SAP|    HAJ|               -30|  null|    Gianni Falk|\n",
      "|        43563|        8|   MIA|    HHN|               -30|  null|       Hous Hih|\n",
      "|        43564|       10|   FLL|    SAP|               -30|  null|       Cho Ming|\n",
      "|        43568|        4|   FLL|    SAP|                 0|  null|     Filg Gills|\n",
      "|        43569|        9|   TEG|    MIA|                 0|  null|       Hung Cho|\n",
      "|        43570|        6|   HAJ|    FLL|               -70|  null|     Filen Filg|\n",
      "|        43571|        5|   HHN|    SAP|               -50|  null| Arthur Maxwell|\n",
      "|        43572|        1|   SAP|    MIA|                 0|  null| Carlos Miranda|\n",
      "|        43573|        5|   MIA|    FLL|                 0|  null|  Denis Tercero|\n",
      "|        43556|        2|   FLL|    TEG|               -50|  null|       John Max|\n",
      "|        43557|        9|   SAP|    HAJ|                40|  null|   Jilles Vlank|\n",
      "|        43560|        8|   TEG|    SAP|                 0|  null|Maximilian Call|\n",
      "|        43561|        1|   HAJ|    SAP|               -70|  null|   Muilin Mills|\n",
      "|        43562|        5|   HHN|    SAP|               -10|  null|    Gianni Falk|\n",
      "|        43563|        6|   SAP|    HAJ|                10|  null|       Hous Hih|\n",
      "|        43564|        8|   HAJ|    HHN|                 0|  null|       Cho Ming|\n",
      "+-------------+---------+------+-------+------------------+------+---------------+\n",
      "only showing top 20 rows\n",
      "\n"
     ]
    }
   ],
   "source": [
    "# Step 2 -> Remove same origin and destination\n",
    "fligths_ = fligths_[fligths_[\"Origen\"] != fligths_[\"Destino\"]]\n",
    "fligths_.show()"
   ]
  },
  {
   "cell_type": "code",
   "execution_count": 118,
   "id": "3d45714d-6c9c-4f4d-a99b-b649888cced5",
   "metadata": {},
   "outputs": [],
   "source": [
    "from pyspark.sql.functions import col,lit,when, count, desc"
   ]
  },
  {
   "cell_type": "code",
   "execution_count": 99,
   "id": "a1131f32-ff37-4fd7-a6cb-74fe10c63de5",
   "metadata": {},
   "outputs": [
    {
     "name": "stdout",
     "output_type": "stream",
     "text": [
      "+-------------+---------------+---------+------+-------+------------------+------+\n",
      "|Codigo_Piloto|         Piloto|Aerolinea|Origen|Destino|Minutos_de_retraso|OnTime|\n",
      "+-------------+---------------+---------+------+-------+------------------+------+\n",
      "|        43556|       John Max|       10|   SAP|    HAJ|                40|     B|\n",
      "|        43559|David Colindres|        1|   TEG|    SAP|                 0|     A|\n",
      "|        43560|Maximilian Call|        1|   HAJ|    SAP|                50|     B|\n",
      "|        43561|   Muilin Mills|        8|   HHN|    SAP|                20|     A|\n",
      "|        43562|    Gianni Falk|        2|   SAP|    HAJ|               -30|     A|\n",
      "|        43563|       Hous Hih|        8|   MIA|    HHN|               -30|     A|\n",
      "|        43564|       Cho Ming|       10|   FLL|    SAP|               -30|     A|\n",
      "|        43568|     Filg Gills|        4|   FLL|    SAP|                 0|     A|\n",
      "|        43569|       Hung Cho|        9|   TEG|    MIA|                 0|     A|\n",
      "|        43570|     Filen Filg|        6|   HAJ|    FLL|               -70|     A|\n",
      "|        43571| Arthur Maxwell|        5|   HHN|    SAP|               -50|     A|\n",
      "|        43572| Carlos Miranda|        1|   SAP|    MIA|                 0|     A|\n",
      "|        43573|  Denis Tercero|        5|   MIA|    FLL|                 0|     A|\n",
      "|        43556|       John Max|        2|   FLL|    TEG|               -50|     A|\n",
      "|        43557|   Jilles Vlank|        9|   SAP|    HAJ|                40|     B|\n",
      "|        43560|Maximilian Call|        8|   TEG|    SAP|                 0|     A|\n",
      "|        43561|   Muilin Mills|        1|   HAJ|    SAP|               -70|     A|\n",
      "|        43562|    Gianni Falk|        5|   HHN|    SAP|               -10|     A|\n",
      "|        43563|       Hous Hih|        6|   SAP|    HAJ|                10|     A|\n",
      "|        43564|       Cho Ming|        8|   HAJ|    HHN|                 0|     A|\n",
      "+-------------+---------------+---------+------+-------+------------------+------+\n",
      "only showing top 20 rows\n",
      "\n"
     ]
    }
   ],
   "source": [
    "# Step 3 -> fill OnTime column\n",
    "# Se genera un nuevo df con las columnas necesarias y modificando el valor del campo \"OnTime\"\n",
    "# comparando el campo Minutos_de_retraso usando la funcion when de spark\n",
    "# Finalmente nombramos la columna en el nuevo df como OnTime\n",
    "fligths_ = fligths_.select(\"Codigo_Piloto\", \"Piloto\", \"Aerolinea\", \"Origen\", \"Destino\", \"Minutos_de_retraso\", \\\n",
    "                    when(col(\"Minutos_de_retraso\") <= 30, lit(\"A\")) \\\n",
    "                    .when((col(\"Minutos_de_retraso\") > 30) & (col(\"Minutos_de_retraso\") <= 50), lit(\"B\")) \\\n",
    "                    .otherwise(lit(\"C\")) \\\n",
    "                    .alias(\"OnTime\"))\n",
    "fligths_.show()"
   ]
  },
  {
   "cell_type": "code",
   "execution_count": 100,
   "id": "be0365d7-d8b2-4107-a18c-d28e814d22a1",
   "metadata": {},
   "outputs": [],
   "source": [
    "# Se crean las vistas temporales para las soluciones sql\n",
    "fligths_.createOrReplaceTempView(\"vv_vuelos\")\n",
    "pilots.createOrReplaceTempView(\"vv_pilotos\")"
   ]
  },
  {
   "cell_type": "code",
   "execution_count": 124,
   "id": "618a679a-fbd4-43f6-8339-0c8387606483",
   "metadata": {},
   "outputs": [
    {
     "name": "stdout",
     "output_type": "stream",
     "text": [
      "+-------------+---------------+---------+------+-------+------------------+------+\n",
      "|Codigo_Piloto|         Piloto|Aerolinea|Origen|Destino|Minutos_de_retraso|OnTime|\n",
      "+-------------+---------------+---------+------+-------+------------------+------+\n",
      "|        43556|       John Max|       10|   SAP|    HAJ|                40|     B|\n",
      "|        43559|David Colindres|        1|   TEG|    SAP|                 0|     A|\n",
      "|        43560|Maximilian Call|        1|   HAJ|    SAP|                50|     B|\n",
      "|        43561|   Muilin Mills|        8|   HHN|    SAP|                20|     A|\n",
      "|        43562|    Gianni Falk|        2|   SAP|    HAJ|               -30|     A|\n",
      "|        43563|       Hous Hih|        8|   MIA|    HHN|               -30|     A|\n",
      "|        43564|       Cho Ming|       10|   FLL|    SAP|               -30|     A|\n",
      "|        43568|     Filg Gills|        4|   FLL|    SAP|                 0|     A|\n",
      "|        43569|       Hung Cho|        9|   TEG|    MIA|                 0|     A|\n",
      "|        43570|     Filen Filg|        6|   HAJ|    FLL|               -70|     A|\n",
      "|        43571| Arthur Maxwell|        5|   HHN|    SAP|               -50|     A|\n",
      "|        43572| Carlos Miranda|        1|   SAP|    MIA|                 0|     A|\n",
      "|        43573|  Denis Tercero|        5|   MIA|    FLL|                 0|     A|\n",
      "|        43556|       John Max|        2|   FLL|    TEG|               -50|     A|\n",
      "|        43557|   Jilles Vlank|        9|   SAP|    HAJ|                40|     B|\n",
      "|        43560|Maximilian Call|        8|   TEG|    SAP|                 0|     A|\n",
      "|        43561|   Muilin Mills|        1|   HAJ|    SAP|               -70|     A|\n",
      "|        43562|    Gianni Falk|        5|   HHN|    SAP|               -10|     A|\n",
      "|        43563|       Hous Hih|        6|   SAP|    HAJ|                10|     A|\n",
      "|        43564|       Cho Ming|        8|   HAJ|    HHN|                 0|     A|\n",
      "+-------------+---------------+---------+------+-------+------------------+------+\n",
      "only showing top 20 rows\n",
      "\n"
     ]
    }
   ],
   "source": [
    "spark.sql(\"select * from vv_vuelos\").show()"
   ]
  },
  {
   "cell_type": "code",
   "execution_count": 145,
   "id": "e5a3491a-80e0-47a8-9755-02a338170420",
   "metadata": {},
   "outputs": [],
   "source": [
    "# Export result to csv\n",
    "df_pd = fligths_.toPandas()\n",
    "df_pd.to_excel(\"results.xlsx\", sheet_name='sheet_1')"
   ]
  },
  {
   "cell_type": "code",
   "execution_count": 128,
   "id": "2f224f6e-e2e6-4ec0-8e9f-2972ac38d25b",
   "metadata": {},
   "outputs": [
    {
     "name": "stdout",
     "output_type": "stream",
     "text": [
      "+------------+--------+\n",
      "|      Piloto|count(1)|\n",
      "+------------+--------+\n",
      "|Jonh Pierson|     668|\n",
      "+------------+--------+\n",
      "\n"
     ]
    }
   ],
   "source": [
    "# 1) Quien es el piloto con mas vuelos A\n",
    "f_sql = spark.sql(\"SELECT Piloto, count(*) from vv_vuelos where OnTime = 'A' group by Piloto order by 2 desc limit 1\")\n",
    "f_sql.show()"
   ]
  },
  {
   "cell_type": "code",
   "execution_count": 129,
   "id": "13422577-4ab1-49d7-ac70-4d9880ddf865",
   "metadata": {},
   "outputs": [
    {
     "name": "stdout",
     "output_type": "stream",
     "text": [
      "+---------+--------+\n",
      "|Aerolinea|count(1)|\n",
      "+---------+--------+\n",
      "|        4|      32|\n",
      "+---------+--------+\n",
      "\n"
     ]
    }
   ],
   "source": [
    "# 2) Cual es la aerolinea con mas vuelos C\n",
    "f2_sql = spark.sql(\"SELECT Aerolinea, count(*) from vv_vuelos where OnTime = 'C' group by Aerolinea order by 2 desc limit 1\")\n",
    "f2_sql.show()"
   ]
  },
  {
   "cell_type": "code",
   "execution_count": 152,
   "id": "5252112e-0e13-4175-8302-8642285f363b",
   "metadata": {},
   "outputs": [
    {
     "name": "stdout",
     "output_type": "stream",
     "text": [
      "+--------+---------+\n",
      "|  Piloto|Aerolinea|\n",
      "+--------+---------+\n",
      "|Hung Cho|        9|\n",
      "|Hung Cho|        3|\n",
      "|Hung Cho|        8|\n",
      "|Hung Cho|        4|\n",
      "+--------+---------+\n",
      "\n"
     ]
    }
   ],
   "source": [
    "# 3) Hung Cho vuela para las aerolineas\n",
    "f3_sql = spark.sql(\"SELECT distinct(Piloto), Aerolinea from vv_vuelos where Piloto = 'Hung Cho'\")\n",
    "f3_sql.show()"
   ]
  },
  {
   "cell_type": "code",
   "execution_count": 153,
   "id": "5e5e9def-eab0-4ba0-9a8a-6d7fb52c7943",
   "metadata": {},
   "outputs": [
    {
     "name": "stdout",
     "output_type": "stream",
     "text": [
      "+-------+------+--------+\n",
      "| Piloto|OnTime|count(1)|\n",
      "+-------+------+--------+\n",
      "|Chao Ma|     B|       1|\n",
      "|Chao Ma|     C|       2|\n",
      "|Chao Ma|     A|       7|\n",
      "+-------+------+--------+\n",
      "\n"
     ]
    }
   ],
   "source": [
    "# 4) Cuántos vuelos A, B, C tiene Chao Ma\n",
    "f3_sql = spark.sql(\"SELECT Piloto, OnTime, count(*) from vv_vuelos where Piloto = 'Chao Ma' and OnTime in ('A', 'B', 'C') group by 1,2\")\n",
    "f3_sql.show()"
   ]
  }
 ],
 "metadata": {
  "kernelspec": {
   "display_name": "Python 3 (ipykernel)",
   "language": "python",
   "name": "python3"
  },
  "language_info": {
   "codemirror_mode": {
    "name": "ipython",
    "version": 3
   },
   "file_extension": ".py",
   "mimetype": "text/x-python",
   "name": "python",
   "nbconvert_exporter": "python",
   "pygments_lexer": "ipython3",
   "version": "3.10.9"
  }
 },
 "nbformat": 4,
 "nbformat_minor": 5
}
